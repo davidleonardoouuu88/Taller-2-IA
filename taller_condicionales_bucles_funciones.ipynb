{
  "cells": [
    {
      "cell_type": "markdown",
      "metadata": {
        "id": "view-in-github",
        "colab_type": "text"
      },
      "source": [
        "<a href=\"https://colab.research.google.com/github/davidleonardoouuu88/Taller-2-IA/blob/main/taller_condicionales_bucles_funciones.ipynb\" target=\"_parent\"><img src=\"https://colab.research.google.com/assets/colab-badge.svg\" alt=\"Open In Colab\"/></a>"
      ]
    },
    {
      "cell_type": "markdown",
      "id": "933277f4",
      "metadata": {
        "id": "933277f4"
      },
      "source": [
        "\n",
        "# UNIVERSIDAD EXTERNADO DE COLOMBIA  \n",
        "**INTELIGENCIA ARTIFICIAL CON APLICACIONES EN ECONOMÍA I**  \n",
        "**TALLER: CONDICIONALES, BUCLES Y FUNCIONES**  \n",
        "Docente: *Lina María Castro*  \n",
        "Fecha: *28 de agosto de 2025*\n",
        "Estudiante: *David Leonardo Martinez*\n",
        "\n",
        "\n"
      ]
    },
    {
      "cell_type": "markdown",
      "id": "c8f16e90",
      "metadata": {
        "id": "c8f16e90"
      },
      "source": [
        "## Ejercicio 1\n",
        "Escribe un programa que pida la inflación y muestre el porcentaje de aumento salarial aprobado:\n",
        "- Si la inflación es > 10% → 12%\n",
        "- Si está entre 6% y 10% → 8%\n",
        "- Si es < 6% → 5%"
      ]
    },
    {
      "cell_type": "code",
      "execution_count": null,
      "id": "5211122b",
      "metadata": {
        "id": "5211122b"
      },
      "outputs": [],
      "source": [
        "\n",
        "def aumento_salarial_por_inflacion(inflacion):\n",
        "    \"\"\"\n",
        "    Retorna el porcentaje de aumento salarial (en %) según la inflación (en %).\n",
        "    - Inflación > 10  -> 12\n",
        "    - 6 <= Inflación <= 10 -> 8\n",
        "    - Inflación < 6 -> 5\n",
        "    \"\"\"\n",
        "    if inflacion > 10:\n",
        "        return 12\n",
        "    elif 6 <= inflacion <= 10:\n",
        "        return 8\n",
        "    else:\n",
        "        return 5\n",
        "\n",
        "try:\n",
        "    valor = float(input(\"Ingresa la inflación (en %): \"))\n",
        "    aumento = aumento_salarial_por_inflacion(valor)\n",
        "    print(f\"Aumento salarial aprobado: {aumento}%\")\n",
        "except Exception as e:\n",
        "    print(\"Entrada inválida. Por favor, ingresa un número.\")\n",
        "\n",
        "for v in [4.9, 6.0, 10.0, 10.1]:\n",
        "    print(f\"Inflación={v}% -> Aumento={aumento_salarial_por_inflacion(v)}%\")\n"
      ]
    },
    {
      "cell_type": "markdown",
      "id": "029545bd",
      "metadata": {
        "id": "029545bd"
      },
      "source": [
        "## Ejercicio 2\n",
        "Dada una lista con el número de empresas registradas en diferentes ciudades, contar cuántas ciudades tienen más de 100 empresas."
      ]
    },
    {
      "cell_type": "code",
      "execution_count": null,
      "id": "16cc653e",
      "metadata": {
        "id": "16cc653e"
      },
      "outputs": [],
      "source": [
        "\n",
        "empresas = [120, 85, 340, 210, 95]\n",
        "\n",
        "contador = 0\n",
        "for n in empresas:\n",
        "    if n > 100:\n",
        "        contador += 1\n",
        "\n",
        "print(f\"Número de ciudades con más de 100 empresas: {contador}\")\n"
      ]
    },
    {
      "cell_type": "markdown",
      "id": "0d7a255f",
      "metadata": {
        "id": "0d7a255f"
      },
      "source": [
        "## Ejercicio 3\n",
        "Imprimir todos los múltiplos de 5 entre 1 y 50 usando `range()`."
      ]
    },
    {
      "cell_type": "code",
      "execution_count": null,
      "id": "0df08bc8",
      "metadata": {
        "id": "0df08bc8"
      },
      "outputs": [],
      "source": [
        "\n",
        "for x in range(5, 51, 5):\n",
        "    print(x, end=\" \")\n",
        "print()\n"
      ]
    },
    {
      "cell_type": "markdown",
      "id": "389a14b2",
      "metadata": {
        "id": "389a14b2"
      },
      "source": [
        "\n",
        "## Ejercicio 4\n",
        "Cajero automático con saldo inicial de **500000**. En cada iteración:\n",
        "1. Se pregunta cuánto retirar.\n",
        "2. Se descuenta del saldo si hay fondos suficientes.\n",
        "3. Termina cuando el saldo llega a 0 o el usuario ingresa 0.\n"
      ]
    },
    {
      "cell_type": "code",
      "execution_count": null,
      "id": "b4186a3f",
      "metadata": {
        "id": "b4186a3f"
      },
      "outputs": [],
      "source": [
        "\n",
        "saldo = 500_000\n",
        "\n",
        "while saldo > 0:\n",
        "    print(f\"Saldo disponible: {saldo}\")\n",
        "    entrada = input(\"¿Cuánto desea retirar? (0 para terminar): \").strip()\n",
        "\n",
        "\n",
        "    if not entrada.isdigit():\n",
        "        print(\"Entrada inválida. Ingrese un número entero mayor o igual a 0.\")\n",
        "        continue\n",
        "\n",
        "    retiro = int(entrada)\n",
        "    if retiro == 0:\n",
        "        print(\"Operación terminada por el usuario.\")\n",
        "        break\n",
        "    if retiro < 0:\n",
        "        print(\"No puede retirar valores negativos.\")\n",
        "        continue\n",
        "    if retiro > saldo:\n",
        "        print(\"No puede retirar más de lo que hay en el cajero. Intente nuevamente.\")\n",
        "        continue\n",
        "\n",
        "    saldo -= retiro\n",
        "    print(f\"Retiro exitoso: {retiro}. Nuevo saldo: {saldo}\\n\")\n",
        "\n",
        "if saldo == 0:\n",
        "    print(\"El cajero se ha quedado sin fondos. Fin del programa.\")\n"
      ]
    },
    {
      "cell_type": "markdown",
      "id": "98280725",
      "metadata": {
        "id": "98280725"
      },
      "source": [
        "\n",
        "## Ejercicio 5\n",
        "Función `raiz_cuadrada(num)` que calcula la raíz cuadrada con manejo de errores:\n",
        "- Si `num` es negativo → mensaje de error.\n",
        "- Si `num` no es numérico → mensaje de error.\n",
        "- Usar `import math` y `math.sqrt`.\n"
      ]
    },
    {
      "cell_type": "code",
      "execution_count": null,
      "id": "3d5935d8",
      "metadata": {
        "id": "3d5935d8"
      },
      "outputs": [],
      "source": [
        "\n",
        "import math\n",
        "\n",
        "def raiz_cuadrada(num):\n",
        "    \"\"\"\n",
        "    Calcula la raíz cuadrada de 'num' usando math.sqrt.\n",
        "    - Si 'num' es negativo: retorna mensaje de error.\n",
        "    - Si 'num' no es numérico: retorna mensaje de error.\n",
        "    \"\"\"\n",
        "    try:\n",
        "        x = float(num)\n",
        "    except Exception:\n",
        "        return \"Error: el valor debe ser numérico.\"\n",
        "\n",
        "    if x < 0:\n",
        "        return \"Error: no se puede calcular la raíz cuadrada de un número negativo.\"\n",
        "\n",
        "    return math.sqrt(x)\n",
        "\n",
        "print(raiz_cuadrada(16))\n",
        "print(raiz_cuadrada(-9))\n",
        "print(raiz_cuadrada(\"abc\"))\n"
      ]
    },
    {
      "cell_type": "markdown",
      "id": "61885c6d",
      "metadata": {
        "id": "61885c6d"
      },
      "source": [
        "## Ejercicio 6\n",
        "Función `es_par(numero)` que retorna `True` si es par y `False` si es impar."
      ]
    },
    {
      "cell_type": "code",
      "execution_count": null,
      "id": "284b328f",
      "metadata": {
        "id": "284b328f"
      },
      "outputs": [],
      "source": [
        "\n",
        "def es_par(numero: int) -> bool:\n",
        "    \"\"\"\n",
        "    Retorna True si 'numero' es par, False si es impar.\n",
        "    Usa el operador módulo (%).\n",
        "    \"\"\"\n",
        "    return numero % 2 == 0\n",
        "\n",
        "print(es_par(10))\n",
        "print(es_par(7))\n"
      ]
    },
    {
      "cell_type": "markdown",
      "id": "d386c0ce",
      "metadata": {
        "id": "d386c0ce"
      },
      "source": [
        "\n",
        "## Ejercicio 7\n",
        "Validador de contraseña con las reglas:\n",
        "- Mínimo 8 caracteres.\n",
        "- Al menos una mayúscula.\n",
        "- Al menos una minúscula.\n",
        "- Al menos un dígito.\n",
        "Si no cumple, explicar qué condición(es) no se cumplen.\n"
      ]
    },
    {
      "cell_type": "code",
      "execution_count": null,
      "id": "4615af12",
      "metadata": {
        "id": "4615af12"
      },
      "outputs": [],
      "source": [
        "\n",
        "def validar_contrasena(pw: str) -> str:\n",
        "    \"\"\"\n",
        "    Verifica si 'pw' cumple todas las reglas de seguridad.\n",
        "    Retorna 'Contraseña válida' o describe las condiciones incumplidas.\n",
        "    \"\"\"\n",
        "    problemas = []\n",
        "    if len(pw) < 8:\n",
        "        problemas.append(\"tener al menos 8 caracteres\")\n",
        "    if not any(c.isupper() for c in pw):\n",
        "        problemas.append(\"incluir al menos una letra mayúscula\")\n",
        "    if not any(c.islower() for c in pw):\n",
        "        problemas.append(\"incluir al menos una letra minúscula\")\n",
        "    if not any(c.isdigit() for c in pw):\n",
        "        problemas.append(\"incluir al menos un número\")\n",
        "\n",
        "    if problemas:\n",
        "        return \"Contraseña inválida: debe \" + \", \".join(problemas) + \".\"\n",
        "    return \"Contraseña válida\"\n",
        "\n",
        "for prueba in [\"abc\", \"abcdefgH\", \"abcdEFGH\", \"Abcdefgh\", \"Abcdefg1\"]:\n",
        "    print(prueba, \"->\", validar_contrasena(prueba))\n"
      ]
    },
    {
      "cell_type": "markdown",
      "id": "1617945c",
      "metadata": {
        "id": "1617945c"
      },
      "source": [
        "\n",
        "## Ejercicio 8\n",
        "Función `extraer_dominio(email)` que retorna el dominio (lo que va después de `@`).  \n",
        "Ejemplos:  \n",
        "- `lmcastroco@gmail.com` → `gmail.com`  \n",
        "- `juanita.perez@hotmail.com` → `hotmail.com`\n"
      ]
    },
    {
      "cell_type": "code",
      "execution_count": null,
      "id": "0a7c5e68",
      "metadata": {
        "id": "0a7c5e68"
      },
      "outputs": [],
      "source": [
        "\n",
        "def extraer_dominio(email: str) -> str:\n",
        "    \"\"\"\n",
        "    Extrae y retorna el dominio de un email (texto después de '@').\n",
        "    Si el formato es inválido, retorna un mensaje de error.\n",
        "    \"\"\"\n",
        "    if \"@\" not in email:\n",
        "        return \"Error: formato de email inválido.\"\n",
        "    return email.split(\"@\", 1)[1].strip()\n",
        "\n",
        "print(extraer_dominio('juanita@gmail.com'))\n",
        "print(extraer_dominio('juanita.perez@hotmail.com'))\n"
      ]
    },
    {
      "cell_type": "markdown",
      "id": "48c6d931",
      "metadata": {
        "id": "48c6d931"
      },
      "source": [
        "\n",
        "## Ejercicio 9\n",
        "Función `contar_desempleo(cadena)` que devuelve cuántas veces aparece la palabra **desempleo**\n",
        "(sin distinguir mayúsculas/minúsculas).  \n",
        "> *Nota:* según el enunciado, ignoramos casos con signos de puntuación pegados.\n"
      ]
    },
    {
      "cell_type": "code",
      "execution_count": null,
      "id": "afd1db2a",
      "metadata": {
        "id": "afd1db2a"
      },
      "outputs": [],
      "source": [
        "\n",
        "def contar_desempleo(cadena: str) -> int:\n",
        "    \"\"\"\n",
        "    Cuenta apariciones de la palabra 'desempleo' sin distinguir mayúsculas/minúsculas.\n",
        "    Simplificación intencional: no tratamos puntuación adyacente.\n",
        "    \"\"\"\n",
        "    return cadena.lower().count(\"desempleo\")\n",
        "\n",
        "print(contar_desempleo(\"El desempleo es un problema. El DESEMPLEO afecta a muchas personas.\"))\n",
        "print(contar_desempleo(\"El dEseMPLeo aumentó en enero.\"))\n",
        "print(contar_desempleo(\"El gobierno tiene como meta reducir el número de personas desocupadas un 10%.\"))\n"
      ]
    },
    {
      "cell_type": "markdown",
      "id": "22f1bc67",
      "metadata": {
        "id": "22f1bc67"
      },
      "source": [
        "\n",
        "## Ejercicio 10\n",
        "Función `multa(velocidad, cumpleanios)` que devuelve:\n",
        "- `Sin multa` si velocidad ≤ 60 km/h\n",
        "- `Multa pequeña` si 60 < velocidad ≤ 80 km/h\n",
        "- `Multa grande` si velocidad > 80 km/h  \n",
        "Si es tu cumpleaños (`cumpleanios=True`), la tolerancia aumenta en 5 km/h (equivale a restar 5 a la velocidad registrada).\n"
      ]
    },
    {
      "cell_type": "code",
      "execution_count": null,
      "id": "1a6c4240",
      "metadata": {
        "id": "1a6c4240"
      },
      "outputs": [],
      "source": [
        "\n",
        "def multa(velocidad: float, cumpleanios: bool) -> str:\n",
        "    \"\"\"\n",
        "    Determina el tipo de multa según la velocidad.\n",
        "    Regla especial: si es cumpleaños, se otorga una tolerancia de 5 km/h.\n",
        "    \"\"\"\n",
        "    v = velocidad - 5 if cumpleanios else velocidad\n",
        "\n",
        "    if v <= 60:\n",
        "        return \"Sin multa\"\n",
        "    elif v <= 80:\n",
        "        return \"Multa pequeña\"\n",
        "    else:\n",
        "        return \"Multa grande\"\n",
        "\n",
        "print(multa(81, True))\n",
        "print(multa(81, False))\n"
      ]
    }
  ],
  "metadata": {
    "language_info": {
      "name": "python"
    },
    "colab": {
      "provenance": [],
      "include_colab_link": true
    }
  },
  "nbformat": 4,
  "nbformat_minor": 5
}